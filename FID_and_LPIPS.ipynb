{
  "nbformat": 4,
  "nbformat_minor": 0,
  "metadata": {
    "colab": {
      "provenance": [],
      "gpuType": "T4"
    },
    "kernelspec": {
      "name": "python3",
      "display_name": "Python 3"
    },
    "language_info": {
      "name": "python"
    },
    "accelerator": "GPU"
  },
  "cells": [
    {
      "cell_type": "code",
      "source": [
        "%cd /content/"
      ],
      "metadata": {
        "colab": {
          "base_uri": "https://localhost:8080/"
        },
        "id": "7iJ3eL9zAW2T",
        "outputId": "bdd59a9e-f736-499b-9e44-e1f2264a834a"
      },
      "execution_count": null,
      "outputs": [
        {
          "output_type": "stream",
          "name": "stdout",
          "text": [
            "/content\n"
          ]
        }
      ]
    },
    {
      "cell_type": "markdown",
      "source": [
        "Unzip generated and ground-truth directories"
      ],
      "metadata": {
        "id": "ORiSeIiIeh2L"
      }
    },
    {
      "cell_type": "code",
      "source": [
        "!unzip \"images.zip\""
      ],
      "metadata": {
        "colab": {
          "base_uri": "https://localhost:8080/"
        },
        "id": "fag1G2dafTKh",
        "outputId": "2a0af890-e0d4-4c4f-d978-b8972eff90aa"
      },
      "execution_count": null,
      "outputs": [
        {
          "output_type": "stream",
          "name": "stdout",
          "text": [
            "unzip:  cannot find or open a.zip, a.zip.zip or a.zip.ZIP.\n"
          ]
        }
      ]
    },
    {
      "cell_type": "code",
      "source": [
        "!pip install pytorch-fid"
      ],
      "metadata": {
        "colab": {
          "base_uri": "https://localhost:8080/"
        },
        "id": "lx5fDaLjBCre",
        "outputId": "cb76ba00-0071-4e19-d1e6-144da6f70a72"
      },
      "execution_count": null,
      "outputs": [
        {
          "output_type": "stream",
          "name": "stdout",
          "text": [
            "Requirement already satisfied: pytorch-fid in /usr/local/lib/python3.10/dist-packages (0.3.0)\n",
            "Requirement already satisfied: numpy in /usr/local/lib/python3.10/dist-packages (from pytorch-fid) (1.25.2)\n",
            "Requirement already satisfied: pillow in /usr/local/lib/python3.10/dist-packages (from pytorch-fid) (9.4.0)\n",
            "Requirement already satisfied: scipy in /usr/local/lib/python3.10/dist-packages (from pytorch-fid) (1.13.0)\n",
            "Requirement already satisfied: torch>=1.0.1 in /usr/local/lib/python3.10/dist-packages (from pytorch-fid) (2.2.1+cu121)\n",
            "Requirement already satisfied: torchvision>=0.2.2 in /usr/local/lib/python3.10/dist-packages (from pytorch-fid) (0.17.1+cu121)\n",
            "Requirement already satisfied: filelock in /usr/local/lib/python3.10/dist-packages (from torch>=1.0.1->pytorch-fid) (3.13.4)\n",
            "Requirement already satisfied: typing-extensions>=4.8.0 in /usr/local/lib/python3.10/dist-packages (from torch>=1.0.1->pytorch-fid) (4.11.0)\n",
            "Requirement already satisfied: sympy in /usr/local/lib/python3.10/dist-packages (from torch>=1.0.1->pytorch-fid) (1.12)\n",
            "Requirement already satisfied: networkx in /usr/local/lib/python3.10/dist-packages (from torch>=1.0.1->pytorch-fid) (3.3)\n",
            "Requirement already satisfied: jinja2 in /usr/local/lib/python3.10/dist-packages (from torch>=1.0.1->pytorch-fid) (3.1.3)\n",
            "Requirement already satisfied: fsspec in /usr/local/lib/python3.10/dist-packages (from torch>=1.0.1->pytorch-fid) (2023.6.0)\n",
            "Requirement already satisfied: nvidia-cuda-nvrtc-cu12==12.1.105 in /usr/local/lib/python3.10/dist-packages (from torch>=1.0.1->pytorch-fid) (12.1.105)\n",
            "Requirement already satisfied: nvidia-cuda-runtime-cu12==12.1.105 in /usr/local/lib/python3.10/dist-packages (from torch>=1.0.1->pytorch-fid) (12.1.105)\n",
            "Requirement already satisfied: nvidia-cuda-cupti-cu12==12.1.105 in /usr/local/lib/python3.10/dist-packages (from torch>=1.0.1->pytorch-fid) (12.1.105)\n",
            "Requirement already satisfied: nvidia-cudnn-cu12==8.9.2.26 in /usr/local/lib/python3.10/dist-packages (from torch>=1.0.1->pytorch-fid) (8.9.2.26)\n",
            "Requirement already satisfied: nvidia-cublas-cu12==12.1.3.1 in /usr/local/lib/python3.10/dist-packages (from torch>=1.0.1->pytorch-fid) (12.1.3.1)\n",
            "Requirement already satisfied: nvidia-cufft-cu12==11.0.2.54 in /usr/local/lib/python3.10/dist-packages (from torch>=1.0.1->pytorch-fid) (11.0.2.54)\n",
            "Requirement already satisfied: nvidia-curand-cu12==10.3.2.106 in /usr/local/lib/python3.10/dist-packages (from torch>=1.0.1->pytorch-fid) (10.3.2.106)\n",
            "Requirement already satisfied: nvidia-cusolver-cu12==11.4.5.107 in /usr/local/lib/python3.10/dist-packages (from torch>=1.0.1->pytorch-fid) (11.4.5.107)\n",
            "Requirement already satisfied: nvidia-cusparse-cu12==12.1.0.106 in /usr/local/lib/python3.10/dist-packages (from torch>=1.0.1->pytorch-fid) (12.1.0.106)\n",
            "Requirement already satisfied: nvidia-nccl-cu12==2.19.3 in /usr/local/lib/python3.10/dist-packages (from torch>=1.0.1->pytorch-fid) (2.19.3)\n",
            "Requirement already satisfied: nvidia-nvtx-cu12==12.1.105 in /usr/local/lib/python3.10/dist-packages (from torch>=1.0.1->pytorch-fid) (12.1.105)\n",
            "Requirement already satisfied: triton==2.2.0 in /usr/local/lib/python3.10/dist-packages (from torch>=1.0.1->pytorch-fid) (2.2.0)\n",
            "Requirement already satisfied: nvidia-nvjitlink-cu12 in /usr/local/lib/python3.10/dist-packages (from nvidia-cusolver-cu12==11.4.5.107->torch>=1.0.1->pytorch-fid) (12.4.127)\n",
            "Requirement already satisfied: MarkupSafe>=2.0 in /usr/local/lib/python3.10/dist-packages (from jinja2->torch>=1.0.1->pytorch-fid) (2.1.5)\n",
            "Requirement already satisfied: mpmath>=0.19 in /usr/local/lib/python3.10/dist-packages (from sympy->torch>=1.0.1->pytorch-fid) (1.3.0)\n"
          ]
        }
      ]
    },
    {
      "cell_type": "code",
      "source": [
        "!pip install scipy==1.13.0"
      ],
      "metadata": {
        "colab": {
          "base_uri": "https://localhost:8080/"
        },
        "id": "VN9yFBFoKY_R",
        "outputId": "fdc2bba9-b245-4c86-b3d4-f5045de51fa3"
      },
      "execution_count": null,
      "outputs": [
        {
          "output_type": "stream",
          "name": "stdout",
          "text": [
            "Requirement already satisfied: scipy==1.13.0 in /usr/local/lib/python3.10/dist-packages (1.13.0)\n",
            "Requirement already satisfied: numpy<2.3,>=1.22.4 in /usr/local/lib/python3.10/dist-packages (from scipy==1.13.0) (1.25.2)\n"
          ]
        }
      ]
    },
    {
      "cell_type": "code",
      "source": [
        "import scipy\n",
        "scipy.__version__"
      ],
      "metadata": {
        "colab": {
          "base_uri": "https://localhost:8080/",
          "height": 35
        },
        "id": "kx5f9-4AJo2w",
        "outputId": "466df720-3770-41cf-a5c9-0ce05bda1280"
      },
      "execution_count": null,
      "outputs": [
        {
          "output_type": "execute_result",
          "data": {
            "text/plain": [
              "'1.13.0'"
            ],
            "application/vnd.google.colaboratory.intrinsic+json": {
              "type": "string"
            }
          },
          "metadata": {},
          "execution_count": 40
        }
      ]
    },
    {
      "cell_type": "markdown",
      "source": [
        "Only run the cell below if image is being cropped"
      ],
      "metadata": {
        "id": "DNzjlO5aeo7z"
      }
    },
    {
      "cell_type": "code",
      "source": [
        "import os\n",
        "from PIL import Image\n",
        "\n",
        "def crop_center(directory):\n",
        "    for filename in os.listdir(directory):\n",
        "        if filename.endswith(\".jpg\") or filename.endswith(\".png\"):\n",
        "            path = os.path.join(directory, filename)\n",
        "            with Image.open(path) as img:\n",
        "                width, height = img.size\n",
        "                left = (width - 12)/2\n",
        "                top = (height - 12)/2\n",
        "                right = (width + 12)/2\n",
        "                bottom = (height + 12)/2\n",
        "\n",
        "                img_cropped = img.crop((left, top, right, bottom))\n",
        "\n",
        "                img_cropped.save(os.path.join(directory, f\"{filename}\"))\n",
        "\n",
        "crop_center('gt')\n",
        "crop_center('inpainted')"
      ],
      "metadata": {
        "id": "vzrs4p78wkD3"
      },
      "execution_count": null,
      "outputs": []
    },
    {
      "cell_type": "code",
      "source": [
        "!python -m pytorch_fid \"inpainted\" \"gt\""
      ],
      "metadata": {
        "colab": {
          "base_uri": "https://localhost:8080/"
        },
        "id": "60jkRLXEEUz_",
        "outputId": "0b3b3866-85a2-4f75-fd28-c4ed9311df5b"
      },
      "execution_count": null,
      "outputs": [
        {
          "output_type": "stream",
          "name": "stdout",
          "text": [
            "\r  0% 0/3 [00:00<?, ?it/s]/usr/lib/python3.10/multiprocessing/popen_fork.py:66: RuntimeWarning: os.fork() was called. os.fork() is incompatible with multithreaded code, and JAX is multithreaded, so this will likely lead to a deadlock.\n",
            "  self.pid = os.fork()\n",
            "100% 3/3 [00:00<00:00,  3.41it/s]\n",
            "100% 3/3 [00:00<00:00,  6.17it/s]\n",
            "FID:  55.212761945652886\n"
          ]
        }
      ]
    },
    {
      "cell_type": "code",
      "source": [
        "!git clone https://github.com/fenglinglwb/MAT.git"
      ],
      "metadata": {
        "colab": {
          "base_uri": "https://localhost:8080/"
        },
        "id": "s05QOU9hz_eJ",
        "outputId": "41e705fd-d064-4216-8851-c217f59abfe8"
      },
      "execution_count": null,
      "outputs": [
        {
          "output_type": "stream",
          "name": "stdout",
          "text": [
            "fatal: destination path 'MAT' already exists and is not an empty directory.\n"
          ]
        }
      ]
    },
    {
      "cell_type": "markdown",
      "source": [
        "Pull Mask Aware Transformer Repository (To be used for LPIPS evaluation)"
      ],
      "metadata": {
        "id": "xf7dI_ave6i2"
      }
    },
    {
      "cell_type": "code",
      "source": [
        "%cd MAT/"
      ],
      "metadata": {
        "colab": {
          "base_uri": "https://localhost:8080/"
        },
        "id": "h4poi6kY8YPq",
        "outputId": "25b3516a-55b0-44fd-85eb-b5ef3259a9e6"
      },
      "execution_count": null,
      "outputs": [
        {
          "output_type": "stream",
          "name": "stdout",
          "text": [
            "/content/MAT\n"
          ]
        }
      ]
    },
    {
      "cell_type": "code",
      "source": [
        "!pip install -rrequirements.txt"
      ],
      "metadata": {
        "colab": {
          "base_uri": "https://localhost:8080/"
        },
        "id": "RoKzVSWW10LF",
        "outputId": "25d13045-7250-423a-f63e-387621588993"
      },
      "execution_count": null,
      "outputs": [
        {
          "output_type": "stream",
          "name": "stdout",
          "text": [
            "Requirement already satisfied: easydict in /usr/local/lib/python3.10/dist-packages (from -r requirements.txt (line 1)) (1.13)\n",
            "Requirement already satisfied: future in /usr/local/lib/python3.10/dist-packages (from -r requirements.txt (line 2)) (0.18.3)\n",
            "Requirement already satisfied: matplotlib in /usr/local/lib/python3.10/dist-packages (from -r requirements.txt (line 3)) (3.7.1)\n",
            "Requirement already satisfied: numpy in /usr/local/lib/python3.10/dist-packages (from -r requirements.txt (line 4)) (1.25.2)\n",
            "Requirement already satisfied: opencv-python in /usr/local/lib/python3.10/dist-packages (from -r requirements.txt (line 5)) (4.8.0.76)\n",
            "Requirement already satisfied: scikit-image in /usr/local/lib/python3.10/dist-packages (from -r requirements.txt (line 6)) (0.19.3)\n",
            "Requirement already satisfied: scipy in /usr/local/lib/python3.10/dist-packages (from -r requirements.txt (line 7)) (1.13.0)\n",
            "Requirement already satisfied: click in /usr/local/lib/python3.10/dist-packages (from -r requirements.txt (line 8)) (8.1.7)\n",
            "Requirement already satisfied: requests in /usr/local/lib/python3.10/dist-packages (from -r requirements.txt (line 9)) (2.31.0)\n",
            "Requirement already satisfied: tqdm in /usr/local/lib/python3.10/dist-packages (from -r requirements.txt (line 10)) (4.66.2)\n",
            "Requirement already satisfied: pyspng in /usr/local/lib/python3.10/dist-packages (from -r requirements.txt (line 11)) (0.1.1)\n",
            "Requirement already satisfied: ninja in /usr/local/lib/python3.10/dist-packages (from -r requirements.txt (line 12)) (1.11.1.1)\n",
            "Requirement already satisfied: imageio-ffmpeg==0.4.3 in /usr/local/lib/python3.10/dist-packages (from -r requirements.txt (line 13)) (0.4.3)\n",
            "Requirement already satisfied: timm in /usr/local/lib/python3.10/dist-packages (from -r requirements.txt (line 14)) (0.9.16)\n",
            "Requirement already satisfied: psutil in /usr/local/lib/python3.10/dist-packages (from -r requirements.txt (line 15)) (5.9.5)\n",
            "Requirement already satisfied: scikit-learn in /usr/local/lib/python3.10/dist-packages (from -r requirements.txt (line 16)) (1.2.2)\n",
            "Requirement already satisfied: contourpy>=1.0.1 in /usr/local/lib/python3.10/dist-packages (from matplotlib->-r requirements.txt (line 3)) (1.2.1)\n",
            "Requirement already satisfied: cycler>=0.10 in /usr/local/lib/python3.10/dist-packages (from matplotlib->-r requirements.txt (line 3)) (0.12.1)\n",
            "Requirement already satisfied: fonttools>=4.22.0 in /usr/local/lib/python3.10/dist-packages (from matplotlib->-r requirements.txt (line 3)) (4.51.0)\n",
            "Requirement already satisfied: kiwisolver>=1.0.1 in /usr/local/lib/python3.10/dist-packages (from matplotlib->-r requirements.txt (line 3)) (1.4.5)\n",
            "Requirement already satisfied: packaging>=20.0 in /usr/local/lib/python3.10/dist-packages (from matplotlib->-r requirements.txt (line 3)) (24.0)\n",
            "Requirement already satisfied: pillow>=6.2.0 in /usr/local/lib/python3.10/dist-packages (from matplotlib->-r requirements.txt (line 3)) (9.4.0)\n",
            "Requirement already satisfied: pyparsing>=2.3.1 in /usr/local/lib/python3.10/dist-packages (from matplotlib->-r requirements.txt (line 3)) (3.1.2)\n",
            "Requirement already satisfied: python-dateutil>=2.7 in /usr/local/lib/python3.10/dist-packages (from matplotlib->-r requirements.txt (line 3)) (2.8.2)\n",
            "Requirement already satisfied: networkx>=2.2 in /usr/local/lib/python3.10/dist-packages (from scikit-image->-r requirements.txt (line 6)) (3.3)\n",
            "Requirement already satisfied: imageio>=2.4.1 in /usr/local/lib/python3.10/dist-packages (from scikit-image->-r requirements.txt (line 6)) (2.31.6)\n",
            "Requirement already satisfied: tifffile>=2019.7.26 in /usr/local/lib/python3.10/dist-packages (from scikit-image->-r requirements.txt (line 6)) (2024.4.18)\n",
            "Requirement already satisfied: PyWavelets>=1.1.1 in /usr/local/lib/python3.10/dist-packages (from scikit-image->-r requirements.txt (line 6)) (1.6.0)\n",
            "Requirement already satisfied: charset-normalizer<4,>=2 in /usr/local/lib/python3.10/dist-packages (from requests->-r requirements.txt (line 9)) (3.3.2)\n",
            "Requirement already satisfied: idna<4,>=2.5 in /usr/local/lib/python3.10/dist-packages (from requests->-r requirements.txt (line 9)) (3.7)\n",
            "Requirement already satisfied: urllib3<3,>=1.21.1 in /usr/local/lib/python3.10/dist-packages (from requests->-r requirements.txt (line 9)) (2.0.7)\n",
            "Requirement already satisfied: certifi>=2017.4.17 in /usr/local/lib/python3.10/dist-packages (from requests->-r requirements.txt (line 9)) (2024.2.2)\n",
            "Requirement already satisfied: torch in /usr/local/lib/python3.10/dist-packages (from timm->-r requirements.txt (line 14)) (2.2.1+cu121)\n",
            "Requirement already satisfied: torchvision in /usr/local/lib/python3.10/dist-packages (from timm->-r requirements.txt (line 14)) (0.17.1+cu121)\n",
            "Requirement already satisfied: pyyaml in /usr/local/lib/python3.10/dist-packages (from timm->-r requirements.txt (line 14)) (6.0.1)\n",
            "Requirement already satisfied: huggingface_hub in /usr/local/lib/python3.10/dist-packages (from timm->-r requirements.txt (line 14)) (0.20.3)\n",
            "Requirement already satisfied: safetensors in /usr/local/lib/python3.10/dist-packages (from timm->-r requirements.txt (line 14)) (0.4.3)\n",
            "Requirement already satisfied: joblib>=1.1.1 in /usr/local/lib/python3.10/dist-packages (from scikit-learn->-r requirements.txt (line 16)) (1.4.0)\n",
            "Requirement already satisfied: threadpoolctl>=2.0.0 in /usr/local/lib/python3.10/dist-packages (from scikit-learn->-r requirements.txt (line 16)) (3.4.0)\n",
            "Requirement already satisfied: six>=1.5 in /usr/local/lib/python3.10/dist-packages (from python-dateutil>=2.7->matplotlib->-r requirements.txt (line 3)) (1.16.0)\n",
            "Requirement already satisfied: filelock in /usr/local/lib/python3.10/dist-packages (from huggingface_hub->timm->-r requirements.txt (line 14)) (3.13.4)\n",
            "Requirement already satisfied: fsspec>=2023.5.0 in /usr/local/lib/python3.10/dist-packages (from huggingface_hub->timm->-r requirements.txt (line 14)) (2023.6.0)\n",
            "Requirement already satisfied: typing-extensions>=3.7.4.3 in /usr/local/lib/python3.10/dist-packages (from huggingface_hub->timm->-r requirements.txt (line 14)) (4.11.0)\n",
            "Requirement already satisfied: sympy in /usr/local/lib/python3.10/dist-packages (from torch->timm->-r requirements.txt (line 14)) (1.12)\n",
            "Requirement already satisfied: jinja2 in /usr/local/lib/python3.10/dist-packages (from torch->timm->-r requirements.txt (line 14)) (3.1.3)\n",
            "Requirement already satisfied: nvidia-cuda-nvrtc-cu12==12.1.105 in /usr/local/lib/python3.10/dist-packages (from torch->timm->-r requirements.txt (line 14)) (12.1.105)\n",
            "Requirement already satisfied: nvidia-cuda-runtime-cu12==12.1.105 in /usr/local/lib/python3.10/dist-packages (from torch->timm->-r requirements.txt (line 14)) (12.1.105)\n",
            "Requirement already satisfied: nvidia-cuda-cupti-cu12==12.1.105 in /usr/local/lib/python3.10/dist-packages (from torch->timm->-r requirements.txt (line 14)) (12.1.105)\n",
            "Requirement already satisfied: nvidia-cudnn-cu12==8.9.2.26 in /usr/local/lib/python3.10/dist-packages (from torch->timm->-r requirements.txt (line 14)) (8.9.2.26)\n",
            "Requirement already satisfied: nvidia-cublas-cu12==12.1.3.1 in /usr/local/lib/python3.10/dist-packages (from torch->timm->-r requirements.txt (line 14)) (12.1.3.1)\n",
            "Requirement already satisfied: nvidia-cufft-cu12==11.0.2.54 in /usr/local/lib/python3.10/dist-packages (from torch->timm->-r requirements.txt (line 14)) (11.0.2.54)\n",
            "Requirement already satisfied: nvidia-curand-cu12==10.3.2.106 in /usr/local/lib/python3.10/dist-packages (from torch->timm->-r requirements.txt (line 14)) (10.3.2.106)\n",
            "Requirement already satisfied: nvidia-cusolver-cu12==11.4.5.107 in /usr/local/lib/python3.10/dist-packages (from torch->timm->-r requirements.txt (line 14)) (11.4.5.107)\n",
            "Requirement already satisfied: nvidia-cusparse-cu12==12.1.0.106 in /usr/local/lib/python3.10/dist-packages (from torch->timm->-r requirements.txt (line 14)) (12.1.0.106)\n",
            "Requirement already satisfied: nvidia-nccl-cu12==2.19.3 in /usr/local/lib/python3.10/dist-packages (from torch->timm->-r requirements.txt (line 14)) (2.19.3)\n",
            "Requirement already satisfied: nvidia-nvtx-cu12==12.1.105 in /usr/local/lib/python3.10/dist-packages (from torch->timm->-r requirements.txt (line 14)) (12.1.105)\n",
            "Requirement already satisfied: triton==2.2.0 in /usr/local/lib/python3.10/dist-packages (from torch->timm->-r requirements.txt (line 14)) (2.2.0)\n",
            "Requirement already satisfied: nvidia-nvjitlink-cu12 in /usr/local/lib/python3.10/dist-packages (from nvidia-cusolver-cu12==11.4.5.107->torch->timm->-r requirements.txt (line 14)) (12.4.127)\n",
            "Requirement already satisfied: MarkupSafe>=2.0 in /usr/local/lib/python3.10/dist-packages (from jinja2->torch->timm->-r requirements.txt (line 14)) (2.1.5)\n",
            "Requirement already satisfied: mpmath>=0.19 in /usr/local/lib/python3.10/dist-packages (from sympy->torch->timm->-r requirements.txt (line 14)) (1.3.0)\n"
          ]
        }
      ]
    },
    {
      "cell_type": "code",
      "source": [
        "!pwd"
      ],
      "metadata": {
        "colab": {
          "base_uri": "https://localhost:8080/"
        },
        "id": "s4TqvS_T2XlB",
        "outputId": "9893e291-23bf-47a6-d5d3-8f35a232af64"
      },
      "execution_count": null,
      "outputs": [
        {
          "output_type": "stream",
          "name": "stdout",
          "text": [
            "/content/MAT\n"
          ]
        }
      ]
    },
    {
      "cell_type": "code",
      "source": [
        "!pip install lpips"
      ],
      "metadata": {
        "colab": {
          "base_uri": "https://localhost:8080/"
        },
        "id": "U7x_S2yI2fKs",
        "outputId": "efdefa78-4eb5-476f-9f4c-5fd3683e721f"
      },
      "execution_count": null,
      "outputs": [
        {
          "output_type": "stream",
          "name": "stdout",
          "text": [
            "Requirement already satisfied: lpips in /usr/local/lib/python3.10/dist-packages (0.1.4)\n",
            "Requirement already satisfied: torch>=0.4.0 in /usr/local/lib/python3.10/dist-packages (from lpips) (2.2.1+cu121)\n",
            "Requirement already satisfied: torchvision>=0.2.1 in /usr/local/lib/python3.10/dist-packages (from lpips) (0.17.1+cu121)\n",
            "Requirement already satisfied: numpy>=1.14.3 in /usr/local/lib/python3.10/dist-packages (from lpips) (1.25.2)\n",
            "Requirement already satisfied: scipy>=1.0.1 in /usr/local/lib/python3.10/dist-packages (from lpips) (1.13.0)\n",
            "Requirement already satisfied: tqdm>=4.28.1 in /usr/local/lib/python3.10/dist-packages (from lpips) (4.66.2)\n",
            "Requirement already satisfied: filelock in /usr/local/lib/python3.10/dist-packages (from torch>=0.4.0->lpips) (3.13.4)\n",
            "Requirement already satisfied: typing-extensions>=4.8.0 in /usr/local/lib/python3.10/dist-packages (from torch>=0.4.0->lpips) (4.11.0)\n",
            "Requirement already satisfied: sympy in /usr/local/lib/python3.10/dist-packages (from torch>=0.4.0->lpips) (1.12)\n",
            "Requirement already satisfied: networkx in /usr/local/lib/python3.10/dist-packages (from torch>=0.4.0->lpips) (3.3)\n",
            "Requirement already satisfied: jinja2 in /usr/local/lib/python3.10/dist-packages (from torch>=0.4.0->lpips) (3.1.3)\n",
            "Requirement already satisfied: fsspec in /usr/local/lib/python3.10/dist-packages (from torch>=0.4.0->lpips) (2023.6.0)\n",
            "Requirement already satisfied: nvidia-cuda-nvrtc-cu12==12.1.105 in /usr/local/lib/python3.10/dist-packages (from torch>=0.4.0->lpips) (12.1.105)\n",
            "Requirement already satisfied: nvidia-cuda-runtime-cu12==12.1.105 in /usr/local/lib/python3.10/dist-packages (from torch>=0.4.0->lpips) (12.1.105)\n",
            "Requirement already satisfied: nvidia-cuda-cupti-cu12==12.1.105 in /usr/local/lib/python3.10/dist-packages (from torch>=0.4.0->lpips) (12.1.105)\n",
            "Requirement already satisfied: nvidia-cudnn-cu12==8.9.2.26 in /usr/local/lib/python3.10/dist-packages (from torch>=0.4.0->lpips) (8.9.2.26)\n",
            "Requirement already satisfied: nvidia-cublas-cu12==12.1.3.1 in /usr/local/lib/python3.10/dist-packages (from torch>=0.4.0->lpips) (12.1.3.1)\n",
            "Requirement already satisfied: nvidia-cufft-cu12==11.0.2.54 in /usr/local/lib/python3.10/dist-packages (from torch>=0.4.0->lpips) (11.0.2.54)\n",
            "Requirement already satisfied: nvidia-curand-cu12==10.3.2.106 in /usr/local/lib/python3.10/dist-packages (from torch>=0.4.0->lpips) (10.3.2.106)\n",
            "Requirement already satisfied: nvidia-cusolver-cu12==11.4.5.107 in /usr/local/lib/python3.10/dist-packages (from torch>=0.4.0->lpips) (11.4.5.107)\n",
            "Requirement already satisfied: nvidia-cusparse-cu12==12.1.0.106 in /usr/local/lib/python3.10/dist-packages (from torch>=0.4.0->lpips) (12.1.0.106)\n",
            "Requirement already satisfied: nvidia-nccl-cu12==2.19.3 in /usr/local/lib/python3.10/dist-packages (from torch>=0.4.0->lpips) (2.19.3)\n",
            "Requirement already satisfied: nvidia-nvtx-cu12==12.1.105 in /usr/local/lib/python3.10/dist-packages (from torch>=0.4.0->lpips) (12.1.105)\n",
            "Requirement already satisfied: triton==2.2.0 in /usr/local/lib/python3.10/dist-packages (from torch>=0.4.0->lpips) (2.2.0)\n",
            "Requirement already satisfied: nvidia-nvjitlink-cu12 in /usr/local/lib/python3.10/dist-packages (from nvidia-cusolver-cu12==11.4.5.107->torch>=0.4.0->lpips) (12.4.127)\n",
            "Requirement already satisfied: pillow!=8.3.*,>=5.3.0 in /usr/local/lib/python3.10/dist-packages (from torchvision>=0.2.1->lpips) (9.4.0)\n",
            "Requirement already satisfied: MarkupSafe>=2.0 in /usr/local/lib/python3.10/dist-packages (from jinja2->torch>=0.4.0->lpips) (2.1.5)\n",
            "Requirement already satisfied: mpmath>=0.19 in /usr/local/lib/python3.10/dist-packages (from sympy->torch>=0.4.0->lpips) (1.3.0)\n"
          ]
        }
      ]
    },
    {
      "cell_type": "code",
      "source": [
        "%cd .."
      ],
      "metadata": {
        "colab": {
          "base_uri": "https://localhost:8080/"
        },
        "id": "jgP-HlWJ8eEB",
        "outputId": "6c022ced-70b7-4162-fbdf-009c708abdaf"
      },
      "execution_count": null,
      "outputs": [
        {
          "output_type": "stream",
          "name": "stdout",
          "text": [
            "/content\n"
          ]
        }
      ]
    },
    {
      "cell_type": "markdown",
      "source": [
        "Rename files in directories to be the same\n"
      ],
      "metadata": {
        "id": "cecX7S8ge9m9"
      }
    },
    {
      "cell_type": "code",
      "source": [
        "import os\n",
        "\n",
        "folder1 = 'inpainted'\n",
        "folder2 = 'gen'\n",
        "\n",
        "for filename in os.listdir(folder2):\n",
        "\n",
        "        new_filename = filename.replace('Out_', 'In_')\n",
        "\n",
        "        old_file = os.path.join(folder2, filename)\n",
        "        new_file = os.path.join(folder2, new_filename)\n",
        "\n",
        "        os.rename(old_file, new_file)\n",
        "        print(f\"Renamed '{filename}' to '{new_filename}'\")\n",
        "\n",
        "print(\"Renaming complete.\")"
      ],
      "metadata": {
        "colab": {
          "base_uri": "https://localhost:8080/"
        },
        "id": "NbA1Z-S86FBH",
        "outputId": "d3be0c63-5f4c-4116-a4c7-cced43b21e0f"
      },
      "execution_count": null,
      "outputs": [
        {
          "output_type": "stream",
          "name": "stdout",
          "text": [
            "Renamed 'Out_03588.jpg' to 'In_03588.jpg'\n",
            "Renamed 'Out_28502.jpg' to 'In_28502.jpg'\n",
            "Renamed 'Out_15329.jpg' to 'In_15329.jpg'\n",
            "Renamed 'Out_26683.jpg' to 'In_26683.jpg'\n",
            "Renamed 'Out_07427.jpg' to 'In_07427.jpg'\n",
            "Renamed 'Out_13361.jpg' to 'In_13361.jpg'\n",
            "Renamed 'Out_10523.jpg' to 'In_10523.jpg'\n",
            "Renamed 'Out_14849.jpg' to 'In_14849.jpg'\n",
            "Renamed 'Out_04699.jpg' to 'In_04699.jpg'\n",
            "Renamed 'Out_07266.jpg' to 'In_07266.jpg'\n",
            "Renamed 'Out_23043.jpg' to 'In_23043.jpg'\n",
            "Renamed 'Out_02675.jpg' to 'In_02675.jpg'\n",
            "Renamed 'Out_19139.jpg' to 'In_19139.jpg'\n",
            "Renamed 'Out_22515.jpg' to 'In_22515.jpg'\n",
            "Renamed 'Out_04139.jpg' to 'In_04139.jpg'\n",
            "Renamed 'Out_18928.jpg' to 'In_18928.jpg'\n",
            "Renamed 'Out_14571.jpg' to 'In_14571.jpg'\n",
            "Renamed 'Out_00193.jpg' to 'In_00193.jpg'\n",
            "Renamed 'Out_20503.jpg' to 'In_20503.jpg'\n",
            "Renamed 'Out_29194.jpg' to 'In_29194.jpg'\n",
            "Renamed 'Out_09484.jpg' to 'In_09484.jpg'\n",
            "Renamed 'Out_10475.jpg' to 'In_10475.jpg'\n",
            "Renamed 'Out_23340.jpg' to 'In_23340.jpg'\n",
            "Renamed 'Out_10453.jpg' to 'In_10453.jpg'\n",
            "Renamed 'Out_05975.jpg' to 'In_05975.jpg'\n",
            "Renamed 'Out_25933.jpg' to 'In_25933.jpg'\n",
            "Renamed 'Out_16241.jpg' to 'In_16241.jpg'\n",
            "Renamed 'Out_14880.jpg' to 'In_14880.jpg'\n",
            "Renamed 'Out_18354.jpg' to 'In_18354.jpg'\n",
            "Renamed 'Out_29401.jpg' to 'In_29401.jpg'\n",
            "Renamed 'Out_09804.jpg' to 'In_09804.jpg'\n",
            "Renamed 'Out_16879.jpg' to 'In_16879.jpg'\n",
            "Renamed 'Out_11544.jpg' to 'In_11544.jpg'\n",
            "Renamed 'Out_22844.jpg' to 'In_22844.jpg'\n",
            "Renamed 'Out_04918.jpg' to 'In_04918.jpg'\n",
            "Renamed 'Out_21015.jpg' to 'In_21015.jpg'\n",
            "Renamed 'Out_11117.jpg' to 'In_11117.jpg'\n",
            "Renamed 'Out_14300.jpg' to 'In_14300.jpg'\n",
            "Renamed 'Out_07673.jpg' to 'In_07673.jpg'\n",
            "Renamed 'Out_29690.jpg' to 'In_29690.jpg'\n",
            "Renamed 'Out_22086.jpg' to 'In_22086.jpg'\n",
            "Renamed 'Out_27901.jpg' to 'In_27901.jpg'\n",
            "Renamed 'Out_05509.jpg' to 'In_05509.jpg'\n",
            "Renamed 'Out_26190.jpg' to 'In_26190.jpg'\n",
            "Renamed 'Out_01668.jpg' to 'In_01668.jpg'\n",
            "Renamed 'Out_05825.jpg' to 'In_05825.jpg'\n",
            "Renamed 'Out_20736.jpg' to 'In_20736.jpg'\n",
            "Renamed 'Out_14501.jpg' to 'In_14501.jpg'\n",
            "Renamed 'Out_14858.jpg' to 'In_14858.jpg'\n",
            "Renamed 'Out_18533.jpg' to 'In_18533.jpg'\n",
            "Renamed 'Out_20684.jpg' to 'In_20684.jpg'\n",
            "Renamed 'Out_20215.jpg' to 'In_20215.jpg'\n",
            "Renamed 'Out_02806.jpg' to 'In_02806.jpg'\n",
            "Renamed 'Out_22740.jpg' to 'In_22740.jpg'\n",
            "Renamed 'Out_05334.jpg' to 'In_05334.jpg'\n",
            "Renamed 'Out_06423.jpg' to 'In_06423.jpg'\n",
            "Renamed 'Out_19435.jpg' to 'In_19435.jpg'\n",
            "Renamed 'Out_09515.jpg' to 'In_09515.jpg'\n",
            "Renamed 'Out_29014.jpg' to 'In_29014.jpg'\n",
            "Renamed 'Out_22967.jpg' to 'In_22967.jpg'\n",
            "Renamed 'Out_29836.jpg' to 'In_29836.jpg'\n",
            "Renamed 'Out_03813.jpg' to 'In_03813.jpg'\n",
            "Renamed 'Out_22291.jpg' to 'In_22291.jpg'\n",
            "Renamed 'Out_07464.jpg' to 'In_07464.jpg'\n",
            "Renamed 'Out_22237.jpg' to 'In_22237.jpg'\n",
            "Renamed 'Out_14209.jpg' to 'In_14209.jpg'\n",
            "Renamed 'Out_25531.jpg' to 'In_25531.jpg'\n",
            "Renamed 'Out_28490.jpg' to 'In_28490.jpg'\n",
            "Renamed 'Out_25896.jpg' to 'In_25896.jpg'\n",
            "Renamed 'Out_24299.jpg' to 'In_24299.jpg'\n",
            "Renamed 'Out_06243.jpg' to 'In_06243.jpg'\n",
            "Renamed 'Out_10580.jpg' to 'In_10580.jpg'\n",
            "Renamed 'Out_24784.jpg' to 'In_24784.jpg'\n",
            "Renamed 'Out_02624.jpg' to 'In_02624.jpg'\n",
            "Renamed 'Out_13532.jpg' to 'In_13532.jpg'\n",
            "Renamed 'Out_27938.jpg' to 'In_27938.jpg'\n",
            "Renamed 'Out_03011.jpg' to 'In_03011.jpg'\n",
            "Renamed 'Out_29920.jpg' to 'In_29920.jpg'\n",
            "Renamed 'Out_14401.jpg' to 'In_14401.jpg'\n",
            "Renamed 'Out_15898.jpg' to 'In_15898.jpg'\n",
            "Renamed 'Out_22660.jpg' to 'In_22660.jpg'\n",
            "Renamed 'Out_28113.jpg' to 'In_28113.jpg'\n",
            "Renamed 'Out_25761.jpg' to 'In_25761.jpg'\n",
            "Renamed 'Out_04271.jpg' to 'In_04271.jpg'\n",
            "Renamed 'Out_12281.jpg' to 'In_12281.jpg'\n",
            "Renamed 'Out_10310.jpg' to 'In_10310.jpg'\n",
            "Renamed 'Out_20448.jpg' to 'In_20448.jpg'\n",
            "Renamed 'Out_29572.jpg' to 'In_29572.jpg'\n",
            "Renamed 'Out_13830.jpg' to 'In_13830.jpg'\n",
            "Renamed 'Out_15377.jpg' to 'In_15377.jpg'\n",
            "Renamed 'Out_25455.jpg' to 'In_25455.jpg'\n",
            "Renamed 'Out_18272.jpg' to 'In_18272.jpg'\n",
            "Renamed 'Out_07830.jpg' to 'In_07830.jpg'\n",
            "Renamed 'Out_09416.jpg' to 'In_09416.jpg'\n",
            "Renamed 'Out_27615.jpg' to 'In_27615.jpg'\n",
            "Renamed 'Out_24124.jpg' to 'In_24124.jpg'\n",
            "Renamed 'Out_04633.jpg' to 'In_04633.jpg'\n",
            "Renamed 'Out_04482.jpg' to 'In_04482.jpg'\n",
            "Renamed 'Out_27553.jpg' to 'In_27553.jpg'\n",
            "Renamed 'Out_02323.jpg' to 'In_02323.jpg'\n",
            "Renamed 'Out_24466.jpg' to 'In_24466.jpg'\n",
            "Renamed 'Out_08748.jpg' to 'In_08748.jpg'\n",
            "Renamed 'Out_05264.jpg' to 'In_05264.jpg'\n",
            "Renamed 'Out_06133.jpg' to 'In_06133.jpg'\n",
            "Renaming complete.\n"
          ]
        }
      ]
    },
    {
      "cell_type": "markdown",
      "source": [
        "Before running cell below, rename directories in cal_lpips.py to correpsond to gen and inpainted directories"
      ],
      "metadata": {
        "id": "Od145ImsfT9t"
      }
    },
    {
      "cell_type": "code",
      "source": [
        "!python MAT/evaluatoin/cal_lpips.py"
      ],
      "metadata": {
        "colab": {
          "base_uri": "https://localhost:8080/"
        },
        "id": "TTiTqY4Jhn--",
        "outputId": "ae752524-048e-40cb-80a7-dc5d17f6ad93"
      },
      "execution_count": null,
      "outputs": [
        {
          "output_type": "stream",
          "name": "stdout",
          "text": [
            "length: 104\n",
            "Setting up [LPIPS] perceptual loss: trunk [alex], v[0.1], spatial [off]\n",
            "/usr/local/lib/python3.10/dist-packages/torchvision/models/_utils.py:208: UserWarning: The parameter 'pretrained' is deprecated since 0.13 and may be removed in the future, please use 'weights' instead.\n",
            "  warnings.warn(\n",
            "/usr/local/lib/python3.10/dist-packages/torchvision/models/_utils.py:223: UserWarning: Arguments other than a weight enum or `None` for 'weights' are deprecated since 0.13 and may be removed in the future. The current behavior is equivalent to passing `weights=AlexNet_Weights.IMAGENET1K_V1`. You can also use `weights=AlexNet_Weights.DEFAULT` to get the most up-to-date weights.\n",
            "  warnings.warn(msg)\n",
            "Loading model from: /usr/local/lib/python3.10/dist-packages/lpips/weights/v0.1/alex.pth\n",
            "0\n",
            "1\n",
            "2\n",
            "3\n",
            "4\n",
            "5\n",
            "6\n",
            "7\n",
            "8\n",
            "9\n",
            "10\n",
            "11\n",
            "12\n",
            "13\n",
            "14\n",
            "15\n",
            "16\n",
            "17\n",
            "18\n",
            "19\n",
            "20\n",
            "21\n",
            "22\n",
            "23\n",
            "24\n",
            "25\n",
            "26\n",
            "27\n",
            "28\n",
            "29\n",
            "30\n",
            "31\n",
            "32\n",
            "33\n",
            "34\n",
            "35\n",
            "36\n",
            "37\n",
            "38\n",
            "39\n",
            "40\n",
            "41\n",
            "42\n",
            "43\n",
            "44\n",
            "45\n",
            "46\n",
            "47\n",
            "48\n",
            "49\n",
            "50\n",
            "51\n",
            "52\n",
            "53\n",
            "54\n",
            "55\n",
            "56\n",
            "57\n",
            "58\n",
            "59\n",
            "60\n",
            "61\n",
            "62\n",
            "63\n",
            "64\n",
            "65\n",
            "66\n",
            "67\n",
            "68\n",
            "69\n",
            "70\n",
            "71\n",
            "72\n",
            "73\n",
            "74\n",
            "75\n",
            "76\n",
            "77\n",
            "78\n",
            "79\n",
            "80\n",
            "81\n",
            "82\n",
            "83\n",
            "84\n",
            "85\n",
            "86\n",
            "87\n",
            "88\n",
            "89\n",
            "90\n",
            "91\n",
            "92\n",
            "93\n",
            "94\n",
            "95\n",
            "96\n",
            "97\n",
            "98\n",
            "99\n",
            "100\n",
            "101\n",
            "102\n",
            "103\n",
            "lpips: 0.0116\n"
          ]
        }
      ]
    }
  ]
}